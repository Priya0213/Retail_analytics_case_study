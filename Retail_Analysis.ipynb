{
 "cells": [
  {
   "cell_type": "code",
   "execution_count": 2,
   "id": "ebf1cf9a-456e-424d-9b80-0b662e3efcdf",
   "metadata": {},
   "outputs": [],
   "source": [
    "import pyodbc\n",
    "import pandas as pd\n",
    "import numpy as np"
   ]
  },
  {
   "cell_type": "code",
   "execution_count": 3,
   "id": "20a912d5-a803-48bb-a130-0fdad5694293",
   "metadata": {},
   "outputs": [],
   "source": [
    "# Connection string (adjust server, user, pwd)\n",
    "conn = pyodbc.connect(\n",
    "    \"Driver={ODBC Driver 17 for SQL Server};\"\n",
    "    \"Server=LAPTOP-KT5S5Q1A\\SQLEXPRESS;\"\n",
    "    \"Database=Retail_Analytics;\"\n",
    "    \"Trusted_Connection=yes;\"\n",
    ")"
   ]
  },
  {
   "cell_type": "code",
   "execution_count": 4,
   "id": "bd2a2314-baa1-48b7-b667-890a50496cd4",
   "metadata": {},
   "outputs": [],
   "source": [
    "import warnings\n",
    "warnings.filterwarnings(\"ignore\", message = \"pandas only supports SQLAlchemy\")"
   ]
  },
  {
   "cell_type": "code",
   "execution_count": 5,
   "id": "889a3d31-0418-43b5-be36-3a7494f026c6",
   "metadata": {},
   "outputs": [
    {
     "name": "stdout",
     "output_type": "stream",
     "text": [
      "Products shape: (49688, 4)\n"
     ]
    }
   ],
   "source": [
    "# Loading a sample of products table in Processed\n",
    "products = pd.read_sql_query(\"SELECT * FROM instac_products\", conn)\n",
    "print(\"Products shape:\", products.shape)\n",
    "products.to_csv(\"E:\\Major Projects\\Retail Analytics Case Study\\Data\\Raw\\Processed\\instac_products_sample.csv\", index=False)"
   ]
  },
  {
   "cell_type": "code",
   "execution_count": 6,
   "id": "c1d9d135-000c-421d-b8e3-da0ee467afc6",
   "metadata": {},
   "outputs": [
    {
     "name": "stdout",
     "output_type": "stream",
     "text": [
      "Aisles shape: (134, 2)\n"
     ]
    }
   ],
   "source": [
    "# Loading a sample of aisles table in Processed\n",
    "aisles = pd.read_sql_query(\"SELECT * FROM instac_aisles\", conn)\n",
    "print(\"Aisles shape:\", aisles.shape)\n",
    "aisles.to_csv(\"E:\\Major Projects\\Retail Analytics Case Study\\Data\\Raw\\Processed\\instac_aisles_sample.csv\", index=False)"
   ]
  },
  {
   "cell_type": "code",
   "execution_count": 7,
   "id": "1f096886-2d5b-4ec4-8340-c2e5514b85de",
   "metadata": {},
   "outputs": [
    {
     "name": "stdout",
     "output_type": "stream",
     "text": [
      "Departments shape: (21, 2)\n"
     ]
    }
   ],
   "source": [
    "# Loading a sample of departments table in Processed\n",
    "depts = pd.read_sql_query(\"SELECT * FROM instac_departments\", conn)\n",
    "print(\"Departments shape:\", depts.shape)\n",
    "depts.to_csv(\"E:\\Major Projects\\Retail Analytics Case Study\\Data\\Raw\\Processed\\instac_departments_sample.csv\", index=False)"
   ]
  },
  {
   "cell_type": "code",
   "execution_count": 8,
   "id": "95dd3bd5-2fb3-4a35-ac00-86b02058d690",
   "metadata": {},
   "outputs": [
    {
     "name": "stdout",
     "output_type": "stream",
     "text": [
      "Orders shape:  (3421083, 7)\n"
     ]
    }
   ],
   "source": [
    "# Loading a sample of orders table in Processed\n",
    "orders = pd.read_sql_query(\"SELECT * FROM instac_orders\", conn)\n",
    "print(\"Orders shape: \", orders.shape)\n",
    "orders.to_csv(\"E:\\Major Projects\\Retail Analytics Case Study\\Data\\Raw\\Processed\\instac_orders_sample.csv\", index=False)"
   ]
  },
  {
   "cell_type": "code",
   "execution_count": 9,
   "id": "c8758122-ec15-41f3-b5e0-5e185d861358",
   "metadata": {},
   "outputs": [
    {
     "name": "stdout",
     "output_type": "stream",
     "text": [
      "walmart_data shape: (6435, 8)\n"
     ]
    }
   ],
   "source": [
    "# Loading a sample of walmart_data table in Processed\n",
    "walmart_data = pd.read_sql_query(\"SELECT * FROM walmart_data\", conn)\n",
    "print(\"walmart_data shape:\", walmart_data.shape)\n",
    "walmart_data.to_csv(\"E:\\Major Projects\\Retail Analytics Case Study\\Data\\Raw\\Processed\\walmart_data_sample.csv\", index=False)"
   ]
  },
  {
   "cell_type": "code",
   "execution_count": 10,
   "id": "498677e5-a3a8-43ce-88ad-ceeac92cb977",
   "metadata": {},
   "outputs": [
    {
     "name": "stdout",
     "output_type": "stream",
     "text": [
      "order_products_train shape: (1384617, 4)\n"
     ]
    }
   ],
   "source": [
    "# Loading a sample of order_products_train table in Processed\n",
    "order_products_train = pd.read_sql_query(\"SELECT * FROM instac_order_products__train\", conn)\n",
    "print(\"order_products_train shape:\", order_products_train.shape)\n",
    "order_products_train.to_csv(\"E:\\Major Projects\\Retail Analytics Case Study\\Data\\Raw\\Processed\\instac_order_products_train_sample.csv\", index=False)"
   ]
  },
  {
   "cell_type": "code",
   "execution_count": 11,
   "id": "c46ad2f1-ce5f-4638-a085-600087573b9a",
   "metadata": {},
   "outputs": [
    {
     "name": "stdout",
     "output_type": "stream",
     "text": [
      "(1384617, 4)\n"
     ]
    }
   ],
   "source": [
    "# Loading a sample of order_products_prior table (as it has 32M rows) in Processed\n",
    "order_products_prior = pd.read_sql_query(\"\"\"\n",
    "    SELECT TOP 1384617 *\n",
    "    FROM instac_order_products_prior\n",
    "    ORDER BY NEWID();\n",
    "\"\"\", conn)\n",
    "\n",
    "print(order_products_prior.shape)\n",
    "order_products_prior.to_csv(\"E:\\Major Projects\\Retail Analytics Case Study\\Data\\Raw\\Processed\\instac_order_products_prior_sample.csv\", index=False)"
   ]
  },
  {
   "cell_type": "code",
   "execution_count": 12,
   "id": "3571c535-e829-4273-977b-19982c5aa163",
   "metadata": {},
   "outputs": [
    {
     "name": "stdout",
     "output_type": "stream",
     "text": [
      "✅ Data pulled from SQL and sample saved.\n"
     ]
    }
   ],
   "source": [
    "print(\"✅ Data pulled from SQL and sample saved.\")"
   ]
  },
  {
   "cell_type": "markdown",
   "id": "5daaee76-670f-4bdf-9564-5cede13dc996",
   "metadata": {},
   "source": [
    "## Handling missing values"
   ]
  },
  {
   "cell_type": "code",
   "execution_count": 13,
   "id": "f77e0f53-9fa2-4745-9cff-8ec77f291a69",
   "metadata": {},
   "outputs": [],
   "source": [
    "# Replacing NULLs (means customer's first order) with 0 (first order) in col.- days_since_prior_order\n",
    "orders[\"days_since_prior_order\"] = orders[\"days_since_prior_order\"].fillna(0)"
   ]
  },
  {
   "cell_type": "code",
   "execution_count": 14,
   "id": "fcfc7af4-d208-4da1-9d0c-5c9af2ea999c",
   "metadata": {},
   "outputs": [],
   "source": [
    "# forward fill -> backward fill to keep continuity (fiiling missing values with nearby values)\n",
    "\n",
    "# for Temperature (1 mssing value)\n",
    "walmart_data[\"Temperature\"] = walmart_data[\"Temperature\"].ffill().bfill()\n",
    "\n",
    "#for Fuelprice ()\n",
    "walmart_data[\"Fuel_Price\"] = walmart_data[\"Fuel_Price\"].ffill().bfill()\n",
    "\n",
    "# for Unemployment ()\n",
    "walmart_data[\"Unemployment\"] = walmart_data[\"Unemployment\"].ffill().bfill()"
   ]
  },
  {
   "cell_type": "markdown",
   "id": "20f69ccc-2f67-4b06-a1ef-4c8cd554996e",
   "metadata": {},
   "source": [
    "## Removing duplicates"
   ]
  },
  {
   "cell_type": "code",
   "execution_count": 15,
   "id": "11322dd8-3cac-4503-844d-06adf90379d8",
   "metadata": {},
   "outputs": [
    {
     "name": "stdout",
     "output_type": "stream",
     "text": [
      "Duplicate orders:  0\n",
      "Duplicate Orders:  None\n"
     ]
    }
   ],
   "source": [
    "# For order table\n",
    "dup_present = orders.duplicated(subset=[\"order_id\"]).sum()\n",
    "print(\"Duplicate orders: \",dup_present)\n",
    "dup = orders.drop_duplicates(subset=[\"order_id\"], inplace=True)\n",
    "print(\"Duplicate Orders: \",dup)"
   ]
  },
  {
   "cell_type": "code",
   "execution_count": 16,
   "id": "03f38f38-2fc0-4505-9a86-d55333beb8f3",
   "metadata": {},
   "outputs": [
    {
     "name": "stdout",
     "output_type": "stream",
     "text": [
      "Duplicates:  0\n",
      "Duplicates:  None\n"
     ]
    }
   ],
   "source": [
    "# for order_products_train table\n",
    "dup_prsnt = order_products_train.duplicated(subset=[\"order_id\", \"product_id\"]).sum()\n",
    "print(\"Duplicates: \",dup_prsnt)\n",
    "dup = order_products_train.drop_duplicates(subset=[\"order_id\", \"product_id\"], inplace=True)\n",
    "print(\"Duplicates: \",dup)"
   ]
  },
  {
   "cell_type": "code",
   "execution_count": 17,
   "id": "bbf33afd-2462-4019-a574-758f5639ef75",
   "metadata": {},
   "outputs": [
    {
     "name": "stdout",
     "output_type": "stream",
     "text": [
      "Duplicates:  0\n",
      "Duplicates:  None\n"
     ]
    }
   ],
   "source": [
    "# for order_products_prior table\n",
    "dup_prsnt = order_products_prior.duplicated(subset=[\"order_id\", \"product_id\"]).sum()\n",
    "print(\"Duplicates: \",dup_prsnt)\n",
    "dup = order_products_prior.drop_duplicates(subset=[\"order_id\", \"product_id\"], inplace=True)\n",
    "print(\"Duplicates: \",dup)"
   ]
  },
  {
   "cell_type": "code",
   "execution_count": 18,
   "id": "943b3d74-3063-4fad-be8f-f193f82ed2dd",
   "metadata": {},
   "outputs": [
    {
     "name": "stdout",
     "output_type": "stream",
     "text": [
      "Duplicates:  0\n",
      "Duplicates:  None\n"
     ]
    }
   ],
   "source": [
    "# for products table\n",
    "dup_prsnt = products.duplicated(subset=[\"product_id\"]).sum()\n",
    "print(\"Duplicates: \",dup_prsnt)\n",
    "dup = products.drop_duplicates(subset=[\"product_id\"], inplace=True)\n",
    "print(\"Duplicates: \",dup)"
   ]
  },
  {
   "cell_type": "code",
   "execution_count": 19,
   "id": "f00de78b-1280-4de1-9388-475da9b9fd5b",
   "metadata": {},
   "outputs": [
    {
     "name": "stdout",
     "output_type": "stream",
     "text": [
      "Duplicates:  0\n",
      "Duplicates:  None\n"
     ]
    }
   ],
   "source": [
    "# for aisles table\n",
    "dup_prsnt = aisles.duplicated(subset=[\"aisle_id\"]).sum()\n",
    "print(\"Duplicates: \",dup_prsnt)\n",
    "dup = aisles.drop_duplicates(subset=[\"aisle_id\"], inplace=True)\n",
    "print(\"Duplicates: \",dup)"
   ]
  },
  {
   "cell_type": "code",
   "execution_count": 20,
   "id": "fd8c65fa-0fbf-4b73-82cd-1be93ac9e643",
   "metadata": {},
   "outputs": [
    {
     "name": "stdout",
     "output_type": "stream",
     "text": [
      "Duplicates:  0\n",
      "Duplicates:  None\n"
     ]
    }
   ],
   "source": [
    "# for dept. table\n",
    "dup_prsnt = depts.duplicated(subset=[\"department_id\"]).sum()\n",
    "print(\"Duplicates: \",dup_prsnt)\n",
    "dup = depts.drop_duplicates(subset=[\"department_id\"], inplace=True)\n",
    "print(\"Duplicates: \",dup)"
   ]
  },
  {
   "cell_type": "code",
   "execution_count": 21,
   "id": "0b144724-1d2b-4aae-856d-0440811aed24",
   "metadata": {},
   "outputs": [
    {
     "name": "stdout",
     "output_type": "stream",
     "text": [
      "Duplicates:  0\n",
      "Duplicates:  None\n"
     ]
    }
   ],
   "source": [
    "# for walmart_data table\n",
    "dup_prsnt = walmart_data.duplicated(subset=[\"Store\", \"Date\"]).sum()\n",
    "print(\"Duplicates: \",dup_prsnt)\n",
    "dup = walmart_data.drop_duplicates(subset=[\"Store\", \"Date\"], inplace=True)\n",
    "print(\"Duplicates: \",dup)"
   ]
  },
  {
   "cell_type": "code",
   "execution_count": null,
   "id": "3bfd6953-cc22-4e12-8fa6-c5ff0599901c",
   "metadata": {},
   "outputs": [],
   "source": []
  },
  {
   "cell_type": "markdown",
   "id": "5d099a5c-5b1f-4ed9-9a7e-209e01411755",
   "metadata": {},
   "source": [
    "## Feature Engineering"
   ]
  },
  {
   "cell_type": "markdown",
   "id": "14b187eb-587b-42b4-af73-378f7c9e44be",
   "metadata": {},
   "source": [
    "### Instacart Order-level Metrics (KPIs baseline)"
   ]
  },
  {
   "cell_type": "code",
   "execution_count": 22,
   "id": "30643977-c86b-45f2-ab1f-5c573821c1ae",
   "metadata": {},
   "outputs": [],
   "source": [
    "# joins or merge order_products_prior with product info (Enriching orders with product details) \n",
    "instacart = order_products_prior.merge(products, on=\"product_id\", how=\"left\")\n",
    "\n",
    "# joins or merge orders table to bring user_id\n",
    "instacart = instacart.merge(orders, on=\"order_id\", how=\"left\")"
   ]
  },
  {
   "cell_type": "code",
   "execution_count": 23,
   "id": "c977adcf-ac14-4086-b397-fdcfda0bdbe1",
   "metadata": {},
   "outputs": [
    {
     "data": {
      "text/plain": [
       "(1047219, 4)"
      ]
     },
     "execution_count": 23,
     "metadata": {},
     "output_type": "execute_result"
    }
   ],
   "source": [
    "# Aggregate product_level orders into order_level summary\n",
    "order_level = instacart.groupby(\"order_id\").agg(\n",
    "    user_id=(\"user_id\", \"first\"),\n",
    "    total_items=(\"product_id\", \"count\"),\n",
    "    reordered_items=(\"reordered\", \"sum\")\n",
    ").reset_index() \n",
    "\n",
    "order_level.shape"
   ]
  },
  {
   "cell_type": "code",
   "execution_count": 24,
   "id": "c3f491ce-0724-4dda-a50e-e87d79fcb258",
   "metadata": {},
   "outputs": [
    {
     "name": "stdout",
     "output_type": "stream",
     "text": [
      "Index(['order_id', 'product_id', 'add_to_cart_order', 'reordered',\n",
      "       'product_name', 'aisle_id', 'department_id', 'user_id', 'eval_set',\n",
      "       'order_number', 'order_dow', 'order_hour_of_day',\n",
      "       'days_since_prior_order'],\n",
      "      dtype='object')\n"
     ]
    }
   ],
   "source": [
    "# checking col names in instacart\n",
    "print(instacart.columns)"
   ]
  },
  {
   "cell_type": "code",
   "execution_count": 25,
   "id": "4da89c5d-e5d2-4d65-8f28-7463d3d17bf2",
   "metadata": {},
   "outputs": [
    {
     "name": "stdout",
     "output_type": "stream",
     "text": [
      "✅ Basket size (Instacart; from SQL-aggregated counts): 10.11\n",
      "count    3.346083e+06\n",
      "mean     1.010707e+01\n",
      "std      7.542326e+00\n",
      "min      1.000000e+00\n",
      "25%      5.000000e+00\n",
      "50%      8.000000e+00\n",
      "75%      1.400000e+01\n",
      "max      1.450000e+02\n",
      "Name: total_items, dtype: float64\n"
     ]
    }
   ],
   "source": [
    "order_items = pd.read_sql_query(\"SELECT * FROM instac_order_items_count\", conn)\n",
    "order_level_from_products = orders[orders[\"order_id\"].isin(order_items[\"order_id\"])].merge(order_items, on=\"order_id\")\n",
    "basket_size = order_level_from_products[\"total_items\"].mean()\n",
    "print(\"✅ Basket size (Instacart; from SQL-aggregated counts):\", round(basket_size, 2))\n",
    "print(order_level_from_products[\"total_items\"].describe())"
   ]
  },
  {
   "cell_type": "code",
   "execution_count": 26,
   "id": "12ee8f4c-3bec-4930-9153-693f5406d283",
   "metadata": {},
   "outputs": [
    {
     "name": "stdout",
     "output_type": "stream",
     "text": [
      "Total Customers:  206209\n"
     ]
    }
   ],
   "source": [
    "total_customers = int(orders[\"user_id\"].nunique())\n",
    "print(\"Total Customers: \", total_customers)"
   ]
  },
  {
   "cell_type": "code",
   "execution_count": 27,
   "id": "9f5aca86-df9e-424e-9a66-ae521e83a4e3",
   "metadata": {},
   "outputs": [
    {
     "name": "stdout",
     "output_type": "stream",
     "text": [
      "Total Orders:  3421083\n"
     ]
    }
   ],
   "source": [
    "total_orders = int(orders[\"order_id\"].nunique())\n",
    "print(\"Total Orders: \", total_orders)"
   ]
  },
  {
   "cell_type": "code",
   "execution_count": 28,
   "id": "c9e14a2d-a0ee-4eea-bf87-085789b9ba24",
   "metadata": {},
   "outputs": [
    {
     "name": "stdout",
     "output_type": "stream",
     "text": [
      "Total Products:  49688\n"
     ]
    }
   ],
   "source": [
    "total_products = int(products[\"product_id\"].nunique())\n",
    "print(\"Total Products: \", total_products)"
   ]
  },
  {
   "cell_type": "code",
   "execution_count": 29,
   "id": "1d86ee98-bfda-49f2-99f8-d41cb594329f",
   "metadata": {},
   "outputs": [
    {
     "name": "stdout",
     "output_type": "stream",
     "text": [
      "Reorder rate:  58.95 %\n"
     ]
    }
   ],
   "source": [
    "# Reorder rate - KPI 2\n",
    "reorder_rate = instacart[\"reordered\"].mean() \n",
    "repeat_purchase = round(float(reorder_rate), 4)     #loyality of customers\n",
    "print(\"Reorder rate: \",round(reorder_rate * 100, 2), \"%\")"
   ]
  },
  {
   "cell_type": "code",
   "execution_count": 30,
   "id": "b2c29a79-dfa8-4286-a254-13f272dcea65",
   "metadata": {},
   "outputs": [
    {
     "name": "stdout",
     "output_type": "stream",
     "text": [
      "Avg Orders per customer:  16.59\n"
     ]
    }
   ],
   "source": [
    "# Customer-level KPIs\n",
    "# Customer frequency (avg orders per customers) - KPI 3 \n",
    "customer_orders = orders.groupby(\"user_id\")[\"order_id\"].nunique()    #show repeat buying behaviour\n",
    "avg_orders_per_customer = customer_orders.mean()\n",
    "print(\"Avg Orders per customer: \", round(avg_orders_per_customer, 2))"
   ]
  },
  {
   "cell_type": "code",
   "execution_count": 31,
   "id": "da72fb80-ec3d-4e17-accc-51862ea4f50d",
   "metadata": {},
   "outputs": [
    {
     "name": "stdout",
     "output_type": "stream",
     "text": [
      "✅ Repeat customers % (users with >1 order): 100.0 %\n"
     ]
    }
   ],
   "source": [
    "customer_orders = orders.groupby(\"user_id\")[\"order_id\"].nunique()\n",
    "repeat_customers_pct = (customer_orders > 1).sum() / customer_orders.shape[0]\n",
    "print(\"✅ Repeat customers % (users with >1 order):\", round(repeat_customers_pct * 100, 2), \"%\")"
   ]
  },
  {
   "cell_type": "code",
   "execution_count": 32,
   "id": "f66932f8-df77-485b-924a-7fa0568d1a57",
   "metadata": {},
   "outputs": [
    {
     "name": "stdout",
     "output_type": "stream",
     "text": [
      "order_id\n",
      "4     23986\n",
      "5     19590\n",
      "6     16165\n",
      "7     13850\n",
      "8     11700\n",
      "9     10190\n",
      "10     9032\n",
      "11     7815\n",
      "12     6952\n",
      "13     6236\n",
      "Name: count, dtype: int64\n"
     ]
    }
   ],
   "source": [
    "# quick debug: distribution\n",
    "print(customer_orders.value_counts().head(10))"
   ]
  },
  {
   "cell_type": "code",
   "execution_count": 33,
   "id": "f4c6d7f4-2fbb-4791-9a29-34f9525002b7",
   "metadata": {},
   "outputs": [],
   "source": [
    "# ---------- 30/60/90-day retention (relative days) ----------\n",
    "# Ensure days_since_prior_order NA -> 0\n",
    "orders_sorted = orders.sort_values([\"user_id\", \"order_number\"]).copy()\n",
    "orders_sorted[\"days_since_prior_order\"] = orders_sorted[\"days_since_prior_order\"].fillna(0)\n",
    "\n",
    "# reconstruct relative 'order_day' per user (day 0 = first order)\n",
    "orders_sorted[\"order_relative_day\"] = orders_sorted.groupby(\"user_id\")[\"days_since_prior_order\"].cumsum()\n",
    "\n",
    "# get first order day (should be 0) and check if any subsequent order within X days\n",
    "def retention_within_days(df_orders, days=30):\n",
    "    # group per user: did user have any order >0 and <= days?\n",
    "    def user_retained(serie):\n",
    "        # serie is order_relative_day for user sorted ascending\n",
    "        future_orders = serie[serie > 0]\n",
    "        return (future_orders <= days).any()\n",
    "    retained_flags = df_orders.groupby(\"user_id\")[\"order_relative_day\"].apply(user_retained)\n",
    "    retained_pct = retained_flags.sum() / retained_flags.shape[0]\n",
    "    return retained_pct\n",
    "\n",
    "retention_30 = retention_within_days(orders_sorted, 30)\n",
    "retention_60 = retention_within_days(orders_sorted, 60)\n",
    "retention_90 = retention_within_days(orders_sorted, 90)"
   ]
  },
  {
   "cell_type": "code",
   "execution_count": 34,
   "id": "9e19921e-ee6a-47b7-8c23-4dd97d590f22",
   "metadata": {},
   "outputs": [
    {
     "name": "stdout",
     "output_type": "stream",
     "text": [
      "✅ Retention 30-day: 100.0 %\n",
      "✅ Retention 60-day: 100.0 %\n",
      "✅ Retention 90-day: 100.0 %\n"
     ]
    }
   ],
   "source": [
    "print(\"✅ Retention 30-day:\", round(retention_30 * 100, 2), \"%\")\n",
    "print(\"✅ Retention 60-day:\", round(retention_60 * 100, 2), \"%\")\n",
    "print(\"✅ Retention 90-day:\", round(retention_90 * 100, 2), \"%\")"
   ]
  },
  {
   "cell_type": "code",
   "execution_count": null,
   "id": "d1230081-9ee1-423b-8a37-b30626e5c082",
   "metadata": {},
   "outputs": [],
   "source": []
  },
  {
   "cell_type": "code",
   "execution_count": null,
   "id": "9b979bd2-0ab6-4bc3-a4fa-7cf00af5d9d3",
   "metadata": {},
   "outputs": [],
   "source": []
  },
  {
   "cell_type": "code",
   "execution_count": null,
   "id": "e20ffbed-74aa-438a-9185-d5882579b719",
   "metadata": {},
   "outputs": [],
   "source": []
  },
  {
   "cell_type": "code",
   "execution_count": null,
   "id": "1a2689c2-877a-4130-977e-a69473e9bd90",
   "metadata": {},
   "outputs": [],
   "source": []
  },
  {
   "cell_type": "markdown",
   "id": "31598802-380c-4377-bec9-7f0c5da175d1",
   "metadata": {},
   "source": [
    "### Walmart Weekly Metrics"
   ]
  },
  {
   "cell_type": "code",
   "execution_count": 35,
   "id": "7ebcd9e7-154f-46c9-b0db-4f7f5c335cbe",
   "metadata": {},
   "outputs": [],
   "source": [
    "# Exctracting yr, mnth, week from date (For time-series and seasonal trends)\n",
    "walmart_data[\"Date\"] = pd.to_datetime(walmart_data[\"Date\"])\n",
    "walmart_data[\"Year\"] = walmart_data[\"Date\"].dt.year\n",
    "walmart_data[\"Month\"] = walmart_data[\"Date\"].dt.month\n",
    "walmart_data[\"Week\"] = walmart_data[\"Date\"].dt.isocalendar().week"
   ]
  },
  {
   "cell_type": "code",
   "execution_count": 36,
   "id": "dc2a16c9-4ed8-42d0-8696-a07e1345ba22",
   "metadata": {},
   "outputs": [
    {
     "name": "stdout",
     "output_type": "stream",
     "text": [
      "Avg Weekly sales:  1046964.88\n"
     ]
    }
   ],
   "source": [
    "# Walmart Sales KPIs\n",
    "# Avg Weekly sales - KPI 5 \n",
    "avg_weekly_sales = walmart_data[\"Weekly_Sales\"].mean()   #business health baseline\n",
    "print(\"Avg Weekly sales: \",round(avg_weekly_sales, 2))"
   ]
  },
  {
   "cell_type": "code",
   "execution_count": 37,
   "id": "59a2c502-1996-4a0d-b5da-bd4e991222e2",
   "metadata": {},
   "outputs": [
    {
     "name": "stdout",
     "output_type": "stream",
     "text": [
      "Total Sales:  6737218988.42\n"
     ]
    }
   ],
   "source": [
    "# KPI - Total sales\n",
    "Wtotal_sales = walmart_data[\"Weekly_Sales\"].sum()\n",
    "print(\"Total Sales: \", round(Wtotal_sales, 2))"
   ]
  },
  {
   "cell_type": "code",
   "execution_count": 38,
   "id": "e7ca8a9b-c03c-4dd8-8801-46d051cef19d",
   "metadata": {},
   "outputs": [
    {
     "name": "stdout",
     "output_type": "stream",
     "text": [
      "Holidays VS No-Holiday KPIs\n",
      "Holiday Avg Sales: 1,122,887.89\n",
      "No-Holiday Avg Sales: 1,041,256.38\n",
      "✅ Holiday Sales Uplift: 7.84 %\n"
     ]
    }
   ],
   "source": [
    "# Holiday Impact - KPI 6\n",
    "holidaySales = walmart_data[walmart_data[\"Holiday_Flag\"] == 1][\"Weekly_Sales\"].mean()\n",
    "no_holidaySales = walmart_data[walmart_data[\"Holiday_Flag\"] == 0][\"Weekly_Sales\"].mean()\n",
    "holiday_uplift = (holidaySales/no_holidaySales - 1)\n",
    "# how much sales spike during holidays (critical for promotion - holiday_uplift)\n",
    "\n",
    "print(\"Holidays VS No-Holiday KPIs\")\n",
    "print(f\"Holiday Avg Sales: {holidaySales:,.2f}\")\n",
    "print(f\"No-Holiday Avg Sales: {no_holidaySales:,.2f}\")\n",
    "print(\"✅ Holiday Sales Uplift:\", round(holiday_uplift*100, 2), \"%\")"
   ]
  },
  {
   "cell_type": "markdown",
   "id": "4007bb96-d51d-49c4-b6c2-7147b580c44b",
   "metadata": {},
   "source": [
    "### OR"
   ]
  },
  {
   "cell_type": "code",
   "execution_count": 39,
   "id": "1353aa4e-cf5c-4f98-a43c-ebb58299761a",
   "metadata": {},
   "outputs": [
    {
     "data": {
      "text/plain": [
       "Holiday_Flag\n",
       "False    1041256.38\n",
       "True     1122887.89\n",
       "Name: Weekly_Sales, dtype: float64"
      ]
     },
     "execution_count": 39,
     "metadata": {},
     "output_type": "execute_result"
    }
   ],
   "source": [
    "# KPI - 6\n",
    "# comparing av sales between holiday VS non-holiday weeks (to measure promotion/holiday uplift (KPI - Holiday VS Non-holiday sales ratio))\n",
    "holiday_sales = walmart_data.groupby(\"Holiday_Flag\")[\"Weekly_Sales\"].mean()\n",
    "round(holiday_sales, 2)\n",
    "# here true shows holiday av sales and false shows no holidy avg sales"
   ]
  },
  {
   "cell_type": "code",
   "execution_count": 40,
   "id": "cf17b830-001b-46b8-806b-61ff694ffebf",
   "metadata": {},
   "outputs": [
    {
     "name": "stdout",
     "output_type": "stream",
     "text": [
      "Avg Weekly Sales walmart:  1046964.88\n",
      "Total Orders:  1047219\n"
     ]
    }
   ],
   "source": [
    "avg_weekly_sales = walmart_data[\"Weekly_Sales\"].mean()\n",
    "total_orders = order_level.shape[0]\n",
    "print(\"Avg Weekly Sales walmart: \", round(avg_weekly_sales, 2))\n",
    "print(\"Total Orders: \", total_orders)"
   ]
  },
  {
   "cell_type": "code",
   "execution_count": 41,
   "id": "7cdc428e-3bcf-4583-b95e-eb9f3f51eb3d",
   "metadata": {},
   "outputs": [
    {
     "name": "stdout",
     "output_type": "stream",
     "text": [
      "✅ AOV (Walmart proxy using Instacart order count): 2013.46\n"
     ]
    }
   ],
   "source": [
    "total_sales = walmart_data[\"Weekly_Sales\"].sum()\n",
    "total_instac_orders = order_level_from_products.shape[0]  # use the proper order-level computed above\n",
    "aov_walmart_proxy = total_sales / total_instac_orders\n",
    "print(\"✅ AOV (Walmart proxy using Instacart order count):\", round(aov_walmart_proxy, 2))"
   ]
  },
  {
   "cell_type": "code",
   "execution_count": 42,
   "id": "82de545d-dc42-4042-9571-a62a6e11c15f",
   "metadata": {},
   "outputs": [
    {
     "name": "stdout",
     "output_type": "stream",
     "text": [
      "Sales volatility (average across stores):  141585.86\n"
     ]
    }
   ],
   "source": [
    "# Sales volatility (per store/region) - KPI\n",
    "sales_volatility = walmart_data.groupby(\"Store\")[\"Weekly_Sales\"].std().mean()\n",
    "print(\"Sales volatility (average across stores): \", round(sales_volatility, 2))"
   ]
  },
  {
   "cell_type": "code",
   "execution_count": 43,
   "id": "8e572e96-29a9-472c-9093-18720bd63806",
   "metadata": {},
   "outputs": [],
   "source": [
    "#Forecast Accuracy - KPI\n",
    "#sorting by data be time\n",
    "walmart_data = walmart_data.sort_values(\"Date\")\n",
    "\n",
    "#creating forecast\n",
    "walmart_data[\"Forecast\"] = walmart_data[\"Weekly_Sales\"].rolling(4).mean()\n",
    "\n",
    "#cleaning up the mssing forecast values\n",
    "walmart_data = walmart_data.dropna(subset=[\"Forecast\"])"
   ]
  },
  {
   "cell_type": "code",
   "execution_count": 44,
   "id": "d09f16b6-dbea-40af-89d7-d969d7d18aaf",
   "metadata": {},
   "outputs": [],
   "source": [
    "# extracting arrays\n",
    "actual = walmart_data[\"Weekly_Sales\"].values\n",
    "forecast = walmart_data[\"Forecast\"].values"
   ]
  },
  {
   "cell_type": "code",
   "execution_count": 45,
   "id": "5394f4b0-b7c0-427c-baf0-daa8a54cf17c",
   "metadata": {},
   "outputs": [
    {
     "name": "stdout",
     "output_type": "stream",
     "text": [
      "0.5399697180418702\n"
     ]
    }
   ],
   "source": [
    "# Manual MAPE calculation\n",
    "mape = np.mean(np.abs((actual - forecast)/ actual))\n",
    "print(mape)"
   ]
  },
  {
   "cell_type": "code",
   "execution_count": 46,
   "id": "94bae3e3-c7b8-44c1-85e2-fcb4693b5d50",
   "metadata": {},
   "outputs": [
    {
     "name": "stdout",
     "output_type": "stream",
     "text": [
      "Forecast Accuracy:  0.46\n"
     ]
    }
   ],
   "source": [
    "# Forecast accuracy\n",
    "forecast_accuracy = float((1 - mape))\n",
    "print(\"Forecast Accuracy: \", round(forecast_accuracy, 2))"
   ]
  },
  {
   "cell_type": "code",
   "execution_count": null,
   "id": "6ce8025b-c146-4bf8-9b97-b10e0b890747",
   "metadata": {},
   "outputs": [],
   "source": []
  },
  {
   "cell_type": "code",
   "execution_count": 47,
   "id": "04e6ea2d-c41b-4928-805e-a2af1e5bfaac",
   "metadata": {},
   "outputs": [
    {
     "name": "stdout",
     "output_type": "stream",
     "text": [
      "Orders with product rows: 3346083\n",
      "Total orders table rows: 3421083\n",
      "count    3.346083e+06\n",
      "mean     1.010707e+01\n",
      "std      7.542326e+00\n",
      "min      1.000000e+00\n",
      "25%      5.000000e+00\n",
      "50%      8.000000e+00\n",
      "75%      1.400000e+01\n",
      "max      1.450000e+02\n",
      "Name: total_items, dtype: float64\n",
      "count    206209.000000\n",
      "mean         16.590367\n",
      "std          16.654774\n",
      "min           4.000000\n",
      "25%           6.000000\n",
      "50%          10.000000\n",
      "75%          20.000000\n",
      "max         100.000000\n",
      "Name: order_id, dtype: float64\n",
      "repeat_customers_pct: 100.0\n",
      "retention30%: 100.0\n"
     ]
    }
   ],
   "source": [
    "# how many orders have product rows vs total orders\n",
    "num_orders_with_products = order_items[\"order_id\"].nunique()\n",
    "num_total_orders = orders[\"order_id\"].nunique()\n",
    "print(\"Orders with product rows:\", num_orders_with_products)\n",
    "print(\"Total orders table rows:\", num_total_orders)\n",
    "\n",
    "# distribution of items per order\n",
    "print(order_level_from_products[\"total_items\"].describe())\n",
    "\n",
    "# basic sanity: avg orders per customer\n",
    "print(customer_orders.describe())\n",
    "\n",
    "# check retention distribution quick\n",
    "print(\"repeat_customers_pct:\", round(repeat_customers_pct*100,2))\n",
    "print(\"retention30%:\", round(retention_30*100,2))\n"
   ]
  },
  {
   "cell_type": "markdown",
   "id": "02d2efa1-b4fa-4b65-a795-e1c1024a8f12",
   "metadata": {},
   "source": [
    "### saving KPIs in json file"
   ]
  },
  {
   "cell_type": "code",
   "execution_count": null,
   "id": "f6209e80-bcc8-4224-81f2-dac9ec410ca4",
   "metadata": {},
   "outputs": [],
   "source": []
  },
  {
   "cell_type": "code",
   "execution_count": 48,
   "id": "0841afd8-96b9-4fb2-9813-bee65a5f981f",
   "metadata": {},
   "outputs": [
    {
     "name": "stdout",
     "output_type": "stream",
     "text": [
      "✅ Final KPIs saved to final_kpis.json\n"
     ]
    }
   ],
   "source": [
    "kpis = {\n",
    "    \"Customer Metrics\": {\n",
    "        \"Basket Size (Instacart)\": round(basket_size, 2),   # 10.11\n",
    "        \"Reorder Rate (%)\": round(reorder_rate * 100, 2),   # 59.03\n",
    "        \"Avg Orders per Customer\": round(avg_orders_per_customer, 2),   # 16.59\n",
    "        \"Repeat Customers % (dataset limitation)\": round(repeat_customers_pct * 100, 2)  # 100.0\n",
    "    },\n",
    "    \"Revenue Metrics\": {\n",
    "        \"Total Sales (Walmart)\": round(Wtotal_sales, 2),   # 6.73B\n",
    "        \"AOV (Walmart Proxy)\": round(aov_walmart_proxy, 2),   # 2012.16\n",
    "        \"Avg Weekly Sales (Walmart)\": round(avg_weekly_sales, 2)   # 1.04M\n",
    "    },\n",
    "    \"Operational Metrics\": {\n",
    "        \"Holiday Uplift (%)\": round(holiday_uplift * 100, 2),   # 7.86%\n",
    "        \"Sales Volatility\": round(sales_volatility, 2),   # 141,585\n",
    "        \"Forecast Accuracy\": round(forecast_accuracy * 100, 2)   # 46%\n",
    "    }\n",
    "}\n",
    "\n",
    "import json\n",
    "with open(r\"E:\\Major Projects\\Retail Analytics Case Study\\Data\\Raw\\Processed\\Cleaned\\final_kpis.json\", \"w\") as f:\n",
    "    json.dump(kpis, f, indent=4)\n",
    "\n",
    "print(\"✅ Final KPIs saved to final_kpis.json\")\n"
   ]
  },
  {
   "cell_type": "code",
   "execution_count": null,
   "id": "44e1c2dd-7cc0-4e4c-b142-51dea6b9d4da",
   "metadata": {},
   "outputs": [],
   "source": []
  },
  {
   "cell_type": "code",
   "execution_count": null,
   "id": "0a034e87-6db4-4e78-a118-e5bc31bc52e9",
   "metadata": {},
   "outputs": [],
   "source": []
  },
  {
   "cell_type": "markdown",
   "id": "bcd1c1bc-1f52-425e-8651-f44686f42928",
   "metadata": {},
   "source": [
    "### Saving cleaned datasets"
   ]
  },
  {
   "cell_type": "code",
   "execution_count": null,
   "id": "9d484af8-3504-4751-9cdf-b737f2aa9ca1",
   "metadata": {},
   "outputs": [],
   "source": []
  },
  {
   "cell_type": "code",
   "execution_count": 49,
   "id": "1aa9afd4-b5bb-476b-905b-8894f1ec8c78",
   "metadata": {},
   "outputs": [],
   "source": [
    "order_level.to_csv(\"E:\\Major Projects\\Retail Analytics Case Study\\Data\\Raw\\Processed\\Cleaned\\instac_order_level.csv\", index = False)\n",
    "orders.to_csv(\"E:\\Major Projects\\Retail Analytics Case Study\\Data\\Raw\\Processed\\Cleaned\\instac_orders_clean.csv\", index = False)\n",
    "order_products_prior.to_csv(\"E:\\Major Projects\\Retail Analytics Case Study\\Data\\Raw\\Processed\\Cleaned\\instac_order_products_prior_clean.csv\", index = False)\n",
    "order_products_train.to_csv(\"E:\\Major Projects\\Retail Analytics Case Study\\Data\\Raw\\Processed\\Cleaned\\instac_order_products_train_clean.csv\", index = False)\n",
    "products.to_csv(\"E:\\Major Projects\\Retail Analytics Case Study\\Data\\Raw\\Processed\\Cleaned\\instac_products_clean.csv\", index = False)\n",
    "aisles.to_csv(\"E:\\Major Projects\\Retail Analytics Case Study\\Data\\Raw\\Processed\\Cleaned\\instac_aisles_clean.csv\", index = False)\n",
    "depts.to_csv(\"E:\\Major Projects\\Retail Analytics Case Study\\Data\\Raw\\Processed\\Cleaned\\instac_duplicates_clean.csv\", index = False)\n",
    "walmart_data.to_csv(\"E:\\Major Projects\\Retail Analytics Case Study\\Data\\Raw\\Processed\\Cleaned\\walmart_data_clean.csv\", index = False)"
   ]
  },
  {
   "cell_type": "code",
   "execution_count": 50,
   "id": "2073cc9c-2d06-4ebc-a0fb-aaaf9a250589",
   "metadata": {},
   "outputs": [
    {
     "name": "stdout",
     "output_type": "stream",
     "text": [
      "Order_level shape:  (1047219, 4)\n",
      "Orders shape:  (3421083, 7)\n",
      "Order_products_prior shape:  (1384617, 4)\n",
      "Order_products_train shape:  (1384617, 4)\n",
      "Aisles shape:  (134, 2)\n",
      "Dept. shape:  (21, 2)\n",
      "Products shape:  (49688, 4)\n",
      "Walmart_data shape:  (6432, 12)\n"
     ]
    }
   ],
   "source": [
    "print(\"Order_level shape: \",order_level.shape)\n",
    "print(\"Orders shape: \",orders.shape)\n",
    "print(\"Order_products_prior shape: \",order_products_prior.shape)\n",
    "print(\"Order_products_train shape: \",order_products_train.shape)\n",
    "print(\"Aisles shape: \",aisles.shape)\n",
    "print(\"Dept. shape: \",depts.shape)\n",
    "print(\"Products shape: \",products.shape)\n",
    "print(\"Walmart_data shape: \",walmart_data.shape)"
   ]
  },
  {
   "cell_type": "code",
   "execution_count": null,
   "id": "bbd9afa9-ac51-40ef-a49d-d4d8852f899f",
   "metadata": {},
   "outputs": [],
   "source": []
  },
  {
   "cell_type": "markdown",
   "id": "104a219b-e35c-43ae-ae94-7bbcc7884d96",
   "metadata": {},
   "source": [
    "## Verifying data for data modeling"
   ]
  },
  {
   "cell_type": "code",
   "execution_count": 51,
   "id": "2b72f5c9-6956-49a7-b519-9648432712a7",
   "metadata": {},
   "outputs": [],
   "source": [
    "# Load tables to confirm data\n",
    "fact_orders = pd.read_sql_query(\"SELECT COUNT(*) AS rows FROM fact_orders\", conn)\n",
    "dim_customers = pd.read_sql_query(\"SELECT COUNT(*) AS rows FROM dim_customers\", conn)\n",
    "dim_products = pd.read_sql_query(\"SELECT COUNT(*) AS rows FROM dim_products\", conn)\n",
    "dim_date = pd.read_sql_query(\"SELECT COUNT(*) AS rows FROM dim_date\", conn)\n",
    "walmart = pd.read_sql_query(\"SELECT COUNT(*) AS rows FROM walmart_sales\", conn)"
   ]
  },
  {
   "cell_type": "code",
   "execution_count": 52,
   "id": "7134a4f8-2c90-468b-bde1-7f668424e686",
   "metadata": {},
   "outputs": [
    {
     "name": "stdout",
     "output_type": "stream",
     "text": [
      "fact_orders: 3214874\n",
      "dim_customer: 206209\n",
      "dim_product: 49688\n",
      "dim_date: 143\n",
      "walmart_sales: 6435\n"
     ]
    }
   ],
   "source": [
    "print(f\"fact_orders: {fact_orders.rows[0]}\")\n",
    "print(f\"dim_customer: {dim_customers.rows[0]}\")\n",
    "print(f\"dim_product: {dim_products.rows[0]}\")\n",
    "print(f\"dim_date: {dim_date.rows[0]}\")\n",
    "print(f\"walmart_sales: {walmart.rows[0]}\")"
   ]
  },
  {
   "cell_type": "code",
   "execution_count": null,
   "id": "7387fb4c-c403-4522-9f5b-7b51a889638a",
   "metadata": {},
   "outputs": [],
   "source": []
  },
  {
   "cell_type": "markdown",
   "id": "ed64b41a-3c8f-4dcd-adf7-fac25b26973a",
   "metadata": {},
   "source": [
    "## RFM Segmentation"
   ]
  },
  {
   "cell_type": "code",
   "execution_count": null,
   "id": "07a1d8d1-2464-40a6-8ea6-79111f5737bc",
   "metadata": {},
   "outputs": [],
   "source": []
  },
  {
   "cell_type": "code",
   "execution_count": 53,
   "id": "af9893bc-a0ad-4bb2-833c-90d3e7ed14b6",
   "metadata": {},
   "outputs": [],
   "source": [
    "fact_orders = pd.read_sql_query(\"SELECT COUNT(*) AS rows FROM fact_orders\", conn)"
   ]
  },
  {
   "cell_type": "code",
   "execution_count": 54,
   "id": "fe9f5835-0975-4058-9c74-160a66363f4a",
   "metadata": {},
   "outputs": [
    {
     "name": "stdout",
     "output_type": "stream",
     "text": [
      "(3214874, 8)\n",
      "   order_id  user_id  order_number  order_dow  order_hour_of_day  \\\n",
      "0         2   202279             3          5                  9   \n",
      "1         3   205970            16          5                 17   \n",
      "2         4   178520            36          1                  9   \n",
      "3         5   156122            42          6                 16   \n",
      "4         6    22352             4          1                 12   \n",
      "\n",
      "   days_since_prior_order  total_items  reordered_items  \n",
      "0                     8.0            9                6  \n",
      "1                    12.0            8                8  \n",
      "2                     7.0           13               12  \n",
      "3                     9.0           26               21  \n",
      "4                    30.0            3                0  \n"
     ]
    }
   ],
   "source": [
    "fact_orders = pd.read_sql_query(\"SELECT * FROM fact_orders\", conn)\n",
    "print(fact_orders.shape)\n",
    "print(fact_orders.head())"
   ]
  },
  {
   "cell_type": "code",
   "execution_count": 55,
   "id": "50a5f703-e67c-4402-9a97-8e9af1b0902c",
   "metadata": {},
   "outputs": [],
   "source": [
    "# Sort orders per customer\n",
    "fact_orders = fact_orders.sort_values(['user_id','order_number'])\n",
    "\n",
    "# Build pseudo order_date\n",
    "fact_orders['order_date'] = fact_orders.groupby('user_id')['days_since_prior_order'].cumsum()\n",
    "fact_orders['order_date'] = pd.to_datetime(\"2017-01-01\") + pd.to_timedelta(fact_orders['order_date'], unit='D')"
   ]
  },
  {
   "cell_type": "code",
   "execution_count": 56,
   "id": "dec28865-3620-4b80-a6b7-ffb61ff0ce44",
   "metadata": {},
   "outputs": [],
   "source": [
    "# Ensure correct dtypes ---\n",
    "fact_orders['days_since_prior_order'] = fact_orders['days_since_prior_order'].fillna(0)\n",
    "\n",
    "# Build pseudo order_date ---\n",
    "fact_orders = fact_orders.sort_values(['user_id', 'order_number'])\n",
    "fact_orders['order_date'] = fact_orders.groupby('user_id')['days_since_prior_order'].cumsum()\n",
    "fact_orders['order_date'] = pd.to_datetime(\"2017-01-01\") + pd.to_timedelta(fact_orders['order_date'], unit='D')"
   ]
  },
  {
   "cell_type": "code",
   "execution_count": 57,
   "id": "bfe49f71-be61-4372-9aa5-ee08860a0f1c",
   "metadata": {},
   "outputs": [],
   "source": [
    "# Compute RFM ---\n",
    "today_date = fact_orders['order_date'].max() + pd.Timedelta(days=1)\n",
    "\n",
    "rfm = fact_orders.groupby('user_id').agg({\n",
    "    'order_date': lambda x: (today_date - x.max()).days,  # Recency\n",
    "    'order_id': 'count',                                 # Frequency\n",
    "    'total_items': 'sum'                                 # Monetary (proxy = items bought)\n",
    "}).reset_index()\n",
    "\n",
    "rfm.columns = ['user_id', 'Recency', 'Frequency', 'Monetary']"
   ]
  },
  {
   "cell_type": "code",
   "execution_count": 58,
   "id": "d9bfc0f5-b3fa-4d77-833a-7a4b0aa4242c",
   "metadata": {},
   "outputs": [],
   "source": [
    "# Assign RFM scores ---\n",
    "rfm['R_score'] = pd.qcut(rfm['Recency'], 5, labels=[5,4,3,2,1])\n",
    "rfm['F_score'] = pd.qcut(rfm['Frequency'].rank(method='first'), 5, labels=[1,2,3,4,5])\n",
    "rfm['M_score'] = pd.qcut(rfm['Monetary'], 5, labels=[1,2,3,4,5])\n",
    "\n",
    "rfm['RFM_Segment'] = rfm['R_score'].astype(str) + rfm['F_score'].astype(str) + rfm['M_score'].astype(str)\n",
    "rfm['RFM_Score'] = rfm[['R_score','F_score','M_score']].astype(int).sum(axis=1)"
   ]
  },
  {
   "cell_type": "code",
   "execution_count": 59,
   "id": "4332332a-6ad8-4f52-9e3f-ee9f0f52eee3",
   "metadata": {},
   "outputs": [],
   "source": [
    "# Classify customers ---\n",
    "rfm['Segment'] = 'Low Value'\n",
    "rfm.loc[rfm['RFM_Score'] > 9, 'Segment'] = 'High Value'\n",
    "rfm.loc[(rfm['RFM_Score'] >= 6) & (rfm['RFM_Score'] <= 9), 'Segment'] = 'Mid Value'"
   ]
  },
  {
   "cell_type": "code",
   "execution_count": 60,
   "id": "1fe808ab-b461-41f1-a4ef-77bdf68033cc",
   "metadata": {},
   "outputs": [
    {
     "name": "stdout",
     "output_type": "stream",
     "text": [
      "✅ RFM segmentation complete. Saved as rfm_segments.csv\n"
     ]
    }
   ],
   "source": [
    "rfm.to_csv(\"E:/Major Projects/Retail Analytics Case Study/Data/Raw/Processed/Cleaned/rfm_segments.csv\", index=False)\n",
    "\n",
    "print(\"✅ RFM segmentation complete. Saved as rfm_segments.csv\")"
   ]
  },
  {
   "cell_type": "code",
   "execution_count": 61,
   "id": "4590875f-d155-42d4-81f8-d9bfd35c8bd2",
   "metadata": {},
   "outputs": [
    {
     "name": "stdout",
     "output_type": "stream",
     "text": [
      "Segment\n",
      "High Value    93674\n",
      "Mid Value     60627\n",
      "Low Value     51908\n",
      "Name: count, dtype: int64\n"
     ]
    }
   ],
   "source": [
    "print(rfm['Segment'].value_counts())"
   ]
  },
  {
   "cell_type": "code",
   "execution_count": null,
   "id": "d9461760-80dc-4977-8791-811f3df24cfe",
   "metadata": {},
   "outputs": [],
   "source": []
  },
  {
   "cell_type": "code",
   "execution_count": null,
   "id": "9288e8a2-2acb-4703-b5f1-9ec5a16d8387",
   "metadata": {},
   "outputs": [],
   "source": []
  },
  {
   "cell_type": "code",
   "execution_count": null,
   "id": "b344ecb4-8a16-4d6f-93f0-a6f8e90940be",
   "metadata": {},
   "outputs": [],
   "source": []
  },
  {
   "cell_type": "markdown",
   "id": "37da16cb-74df-4b5a-829c-1781241896a5",
   "metadata": {},
   "source": [
    "## A/B Testing (Walmart Promotion)"
   ]
  },
  {
   "cell_type": "code",
   "execution_count": null,
   "id": "7fadc268-6187-4f65-8443-e6b3abd5e32f",
   "metadata": {},
   "outputs": [],
   "source": []
  },
  {
   "cell_type": "code",
   "execution_count": 62,
   "id": "ca261290-2052-43fa-9f62-0502ba135d1b",
   "metadata": {},
   "outputs": [],
   "source": [
    "from scipy import stats"
   ]
  },
  {
   "cell_type": "code",
   "execution_count": 63,
   "id": "c2844264-ea84-474f-a836-21606ce09b34",
   "metadata": {},
   "outputs": [],
   "source": [
    "# Load cleaned walmart_data\n",
    "walmart = pd.read_csv(r\"E:\\Major Projects\\Retail Analytics Case Study\\Data\\Raw\\Processed\\Cleaned\\walmart_data_clean.csv\")\n",
    "\n",
    "# Create a proxy order_id (each row = one order/week per store)\n",
    "walmart = walmart.reset_index().rename(columns={\"index\": \"order_id\"})"
   ]
  },
  {
   "cell_type": "code",
   "execution_count": 64,
   "id": "6df6d245-5020-4b76-a854-5e7a35208f46",
   "metadata": {},
   "outputs": [],
   "source": [
    "np.random.seed(42)  # reproducibility\n",
    "walmart['group'] = np.where(np.random.rand(len(walmart)) < 0.5, 'control', 'treatment')"
   ]
  },
  {
   "cell_type": "code",
   "execution_count": 65,
   "id": "f71199fb-7114-4693-b32e-e609e4aa6b60",
   "metadata": {},
   "outputs": [],
   "source": [
    "# Assume 10% uplift in treatment (simulate promotion effect)\n",
    "walmart['adjusted_sales'] = walmart.apply(\n",
    "    lambda x: x['Weekly_Sales'] * 1.10 if x['group'] == 'treatment' else x['Weekly_Sales'],\n",
    "    axis=1\n",
    ")"
   ]
  },
  {
   "cell_type": "code",
   "execution_count": 66,
   "id": "0fd09170-450d-4e22-8fbb-82ff492d603a",
   "metadata": {},
   "outputs": [
    {
     "name": "stdout",
     "output_type": "stream",
     "text": [
      "Control Mean AOV:  1051186.62\n",
      "Treatment Mean AOV:  1146562.78\n",
      "Uplift %:  9.07\n"
     ]
    }
   ],
   "source": [
    "control = walmart[walmart['group'] == 'control']['Weekly_Sales']\n",
    "treatment = walmart[walmart['group'] == 'treatment']['adjusted_sales']\n",
    "\n",
    "print(\"Control Mean AOV: \", round(control.mean(), 2))\n",
    "print(\"Treatment Mean AOV: \", round(treatment.mean(), 2))\n",
    "print(\"Uplift %: \", round(((treatment.mean() - control.mean()) / control.mean()) * 100, 2))"
   ]
  },
  {
   "cell_type": "code",
   "execution_count": 67,
   "id": "37764262-1df5-4055-86db-c2dcb655ad0a",
   "metadata": {},
   "outputs": [
    {
     "name": "stdout",
     "output_type": "stream",
     "text": [
      "t-statistic: 6.451975213581375\n",
      "p-value: 1.1850180615212562e-10\n",
      "Significant difference (Promotion works)\n"
     ]
    }
   ],
   "source": [
    "t_stat, p_val = stats.ttest_ind(treatment, control, equal_var=False)\n",
    "print(\"t-statistic:\", t_stat)\n",
    "print(\"p-value:\", p_val)\n",
    "\n",
    "if p_val < 0.05:\n",
    "    print(\"Significant difference (Promotion works)\")\n",
    "else:\n",
    "    print(\"No significant difference\")"
   ]
  },
  {
   "cell_type": "code",
   "execution_count": 68,
   "id": "5be5a93f-28b6-4675-83c9-3dc73f360418",
   "metadata": {},
   "outputs": [],
   "source": [
    "ab_summary = pd.DataFrame({\n",
    "    \"Group\": [\"Control\", \"Treatment\"],\n",
    "    \"Mean_AOV\": [control.mean(), treatment.mean()],\n",
    "    \"N\": [len(control), len(treatment)]\n",
    "})\n",
    "\n",
    "# Add uplift separately\n",
    "uplift = ((treatment.mean() - control.mean()) / control.mean()) * 100\n",
    "\n",
    "# Save to CSV\n",
    "ab_summary.to_csv(r\"E:\\Major Projects\\Retail Analytics Case Study\\Data\\Raw\\Processed\\ab_summary.csv\", index=False)"
   ]
  },
  {
   "cell_type": "code",
   "execution_count": 69,
   "id": "4b08f2ee-5940-46bc-b497-75b6977859e1",
   "metadata": {},
   "outputs": [],
   "source": [
    "# Save uplift separately\n",
    "ab_meta = pd.DataFrame({\n",
    "    \"Metric\": [\"Uplift %\", \"p_value\"],\n",
    "    \"Value\": [uplift, p_val]\n",
    "})\n",
    "ab_meta.to_csv(r\"E:\\Major Projects\\Retail Analytics Case Study\\Data\\Raw\\Processed\\ab_meta.csv\", index=False)"
   ]
  },
  {
   "cell_type": "code",
   "execution_count": null,
   "id": "fc73e05c-37f5-4525-9b4c-78160251e345",
   "metadata": {},
   "outputs": [],
   "source": []
  },
  {
   "cell_type": "code",
   "execution_count": null,
   "id": "c7accb51-c8cf-4667-9e25-0bf6cb13d232",
   "metadata": {},
   "outputs": [],
   "source": []
  },
  {
   "cell_type": "markdown",
   "id": "ba6fa52a-284a-4003-bc8b-148d34797f4c",
   "metadata": {},
   "source": [
    "## Forecasting (Prophet) - Walmart"
   ]
  },
  {
   "cell_type": "code",
   "execution_count": null,
   "id": "031f01bf-49dc-4cb6-83d1-3773832c9fd8",
   "metadata": {},
   "outputs": [],
   "source": []
  },
  {
   "cell_type": "code",
   "execution_count": 83,
   "id": "4886d96c-4bab-41d3-a8a5-531632e602bc",
   "metadata": {},
   "outputs": [],
   "source": [
    "# Load cleaned walmart_data\n",
    "walmart = pd.read_csv(r\"E:\\Major Projects\\Retail Analytics Case Study\\Data\\Raw\\Processed\\Cleaned\\walmart_data_clean.csv\")"
   ]
  },
  {
   "cell_type": "code",
   "execution_count": 71,
   "id": "efb226b4-7c14-4bd6-bf9d-18ab98964f88",
   "metadata": {},
   "outputs": [
    {
     "name": "stdout",
     "output_type": "stream",
     "text": [
      "   Store        Date  Weekly_Sales  Holiday_Flag  Temperature  Fuel_Price  \\\n",
      "0     17  2010-02-05  7.890360e+05         False    23.110001       2.666   \n",
      "1     30  2010-02-05  4.651085e+05         False    39.049999       2.572   \n",
      "2     25  2010-02-05  6.772316e+05         False    21.100000       2.784   \n",
      "3     22  2010-02-05  1.033017e+06         False    24.360001       2.788   \n",
      "4     23  2010-02-05  1.364722e+06         False    15.250000       2.788   \n",
      "\n",
      "          CPI  Unemployment  Year  Month  Week      Forecast  \n",
      "0  126.442062         6.548  2010      2     5  1.290446e+06  \n",
      "1  210.752609         8.324  2010      2     5  9.958000e+05  \n",
      "2  204.247192         8.187  2010      2     5  6.168457e+05  \n",
      "3  135.352463         8.283  2010      2     5  7.410984e+05  \n",
      "4  131.527908         5.892  2010      2     5  8.850198e+05  \n"
     ]
    }
   ],
   "source": [
    "print(walmart.head())"
   ]
  },
  {
   "cell_type": "code",
   "execution_count": null,
   "id": "c9e18c68-8b99-4deb-8e09-49c429f703ce",
   "metadata": {},
   "outputs": [],
   "source": []
  },
  {
   "cell_type": "code",
   "execution_count": 95,
   "id": "0e041761-362a-4098-b762-cad48c4f71ad",
   "metadata": {},
   "outputs": [
    {
     "data": {
      "image/png": "[encoded data removed]",
      "text/plain": [
       "<Figure size 1200x600 with 1 Axes>"
      ]
     },
     "metadata": {},
     "output_type": "display_data"
    }
   ],
   "source": [
    "import matplotlib.pyplot as plt\n",
    "from statsmodels.tsa.holtwinters import ExponentialSmoothing\n",
    "\n",
    "# Load Walmart data\n",
    "df = pd.read_csv(r\"E:\\Major Projects\\Retail Analytics Case Study\\Data\\Raw\\Processed\\Cleaned\\\\Walmart_data_clean.csv\")\n",
    "\n",
    "# Ensure date column is datetime\n",
    "df['Date'] = pd.to_datetime(df['Date'], errors='coerce')\n",
    "\n",
    "# Drop missing dates\n",
    "df = df.dropna(subset=['Date'])\n",
    "\n",
    "# Group by Date (weekly total sales)\n",
    "df = df.groupby('Date')['Weekly_Sales'].sum().reset_index()\n",
    "\n",
    "# Sort by Date\n",
    "df = df.sort_values('Date')\n",
    "\n",
    "# Set date as index\n",
    "df.set_index('Date', inplace=True)\n",
    "\n",
    "# Ensure weekly frequency (fill missing weeks)\n",
    "df = df.asfreq('W', method='ffill')\n",
    "\n",
    "# Holt-Winters Model (weekly seasonality ~ 52 weeks)\n",
    "model = ExponentialSmoothing(df['Weekly_Sales'], trend='add', seasonal='add', seasonal_periods=52)\n",
    "fit = model.fit()\n",
    "\n",
    "# Forecast next 52 weeks\n",
    "forecast = fit.forecast(52)\n",
    "\n",
    "# Plot\n",
    "plt.figure(figsize=(12,6))\n",
    "plt.plot(df['Weekly_Sales'], label='Actual', linewidth=2)\n",
    "plt.plot(forecast, label='Forecast', color='red', linewidth=2)\n",
    "plt.title(\"Walmart Sales Forecasting\")\n",
    "plt.xlabel(\"Date\")\n",
    "plt.ylabel(\"Sales\")\n",
    "plt.legend()\n",
    "plt.show()"
   ]
  },
  {
   "cell_type": "code",
   "execution_count": null,
   "id": "e402d71f-06ff-4761-9fd1-141930d238a1",
   "metadata": {},
   "outputs": [],
   "source": []
  },
  {
   "cell_type": "code",
   "execution_count": 98,
   "id": "556d294e-5039-4e6e-aa54-f409fe93ccd3",
   "metadata": {},
   "outputs": [
    {
     "data": {
      "image/png": "[encoded data removed]",
      "text/plain": [
       "<Figure size 1200x600 with 1 Axes>"
      ]
     },
     "metadata": {},
     "output_type": "display_data"
    }
   ],
   "source": [
    "# Load data\n",
    "df = pd.read_csv(r\"E:\\Major Projects\\Retail Analytics Case Study\\Data\\Raw\\Processed\\Cleaned\\\\Walmart_data_clean.csv\")\n",
    "\n",
    "# Ensure datetime format\n",
    "df['Date'] = pd.to_datetime(df['Date'], errors='coerce')\n",
    "df = df.dropna(subset=['Date'])\n",
    "\n",
    "# Aggregate weekly sales\n",
    "df = df.groupby('Date')['Weekly_Sales'].sum().reset_index()\n",
    "df = df.sort_values('Date')\n",
    "df.set_index('Date', inplace=True)\n",
    "\n",
    "# Resample weekly (fill missing)\n",
    "df = df.asfreq('W', method='ffill')\n",
    "\n",
    "# Holt-Winters Model\n",
    "model = ExponentialSmoothing(df['Weekly_Sales'], trend='add', seasonal='add', seasonal_periods=52)\n",
    "fit = model.fit()\n",
    "\n",
    "# Forecast next 52 weeks\n",
    "forecast = fit.forecast(52)\n",
    "\n",
    "# Plot\n",
    "plt.figure(figsize=(12,6))\n",
    "plt.plot(df['Weekly_Sales'], label='Actual', linewidth=2)\n",
    "plt.plot(forecast, label='Forecast', color='red', linewidth=2)\n",
    "\n",
    "# Add confidence interval (using ±1.96*std of residuals)\n",
    "residuals = df['Weekly_Sales'] - fit.fittedvalues\n",
    "std = residuals.std()\n",
    "plt.fill_between(forecast.index, forecast - 1.96*std, forecast + 1.96*std,\n",
    "                 color='pink', alpha=0.3, label=\"95% Confidence Interval\")\n",
    "\n",
    "plt.title(\"Walmart Sales Forecasting\")\n",
    "plt.xlabel(\"Date\")\n",
    "plt.ylabel(\"Sales\")\n",
    "plt.legend()\n",
    "plt.show()\n"
   ]
  },
  {
   "cell_type": "markdown",
   "id": "d2da58ae-2538-4872-8408-d553a0240767",
   "metadata": {},
   "source": [
    "### The blue line is your historical Walmart sales and the red line is your Holt-Winters forecast for the next 52 weeks."
   ]
  },
  {
   "cell_type": "code",
   "execution_count": null,
   "id": "b89c0b53-31ad-4b00-b7af-1cc0771b1428",
   "metadata": {},
   "outputs": [],
   "source": []
  },
  {
   "cell_type": "code",
   "execution_count": null,
   "id": "12e36821-9110-4998-ab94-62169cfe6fdd",
   "metadata": {},
   "outputs": [],
   "source": []
  },
  {
   "cell_type": "code",
   "execution_count": null,
   "id": "d9357743-b74f-4c60-9644-37cc5c4ff4e0",
   "metadata": {},
   "outputs": [],
   "source": []
  },
  {
   "cell_type": "code",
   "execution_count": null,
   "id": "4e175671-8aa1-4e4e-9b9e-7f679c916a16",
   "metadata": {},
   "outputs": [],
   "source": []
  },
  {
   "cell_type": "code",
   "execution_count": null,
   "id": "87cf6a43-cd5a-4316-bd0a-0075172d56db",
   "metadata": {},
   "outputs": [],
   "source": []
  },
  {
   "cell_type": "code",
   "execution_count": null,
   "id": "5dbad26a-2e43-4b35-a037-ecba411bd2a0",
   "metadata": {},
   "outputs": [],
   "source": []
  },
  {
   "cell_type": "code",
   "execution_count": null,
   "id": "d042d5cc-b4a2-4edb-bdd6-ec50266392ce",
   "metadata": {},
   "outputs": [],
   "source": []
  },
  {
   "cell_type": "code",
   "execution_count": null,
   "id": "3c5099d2-8499-48f0-875c-0abb9f3ff578",
   "metadata": {},
   "outputs": [],
   "source": []
  },
  {
   "cell_type": "code",
   "execution_count": null,
   "id": "e9dbaf98-aba7-4459-992e-51d56613b708",
   "metadata": {},
   "outputs": [],
   "source": []
  },
  {
   "cell_type": "code",
   "execution_count": null,
   "id": "e4c740a9-45a5-42cf-b71c-219424b04a05",
   "metadata": {},
   "outputs": [],
   "source": []
  },
  {
   "cell_type": "code",
   "execution_count": null,
   "id": "53bc5227-ce45-4608-90fa-bee823306108",
   "metadata": {},
   "outputs": [],
   "source": []
  },
  {
   "cell_type": "code",
   "execution_count": null,
   "id": "fd88e723-940d-4120-9d38-94e87f2a64c7",
   "metadata": {},
   "outputs": [],
   "source": []
  },
  {
   "cell_type": "code",
   "execution_count": null,
   "id": "8a33d8ef-1a57-47ae-9d52-a31f26ef84bf",
   "metadata": {},
   "outputs": [],
   "source": []
  },
  {
   "cell_type": "code",
   "execution_count": null,
   "id": "ab2ae7d9-19d0-44b9-b415-a0e026e76772",
   "metadata": {},
   "outputs": [],
   "source": []
  },
  {
   "cell_type": "code",
   "execution_count": null,
   "id": "85e9aa64-6cf1-4649-a4fa-b2c4af2dcbe5",
   "metadata": {},
   "outputs": [],
   "source": []
  },
  {
   "cell_type": "code",
   "execution_count": null,
   "id": "40590ccb-4bf9-4e36-99a1-425941a6a553",
   "metadata": {},
   "outputs": [],
   "source": []
  },
  {
   "cell_type": "code",
   "execution_count": null,
   "id": "cc56a60b-23cb-442a-920b-3078b9eabe9c",
   "metadata": {},
   "outputs": [],
   "source": []
  }
 ],
 "metadata": {
  "kernelspec": {
   "display_name": "Python 3 (ipykernel)",
   "language": "python",
   "name": "python3"
  },
  "language_info": {
   "codemirror_mode": {
    "name": "ipython",
    "version": 3
   },
   "file_extension": ".py",
   "mimetype": "text/x-python",
   "name": "python",
   "nbconvert_exporter": "python",
   "pygments_lexer": "ipython3",
   "version": "3.13.5"
  }
 },
 "nbformat": 4,
 "nbformat_minor": 5
}
